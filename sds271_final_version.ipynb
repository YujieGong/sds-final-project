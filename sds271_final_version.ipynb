{
 "cells": [
  {
   "cell_type": "code",
   "execution_count": 2,
   "id": "cf73052d-fd2a-467e-ba58-88a0fc9c6a05",
   "metadata": {},
   "outputs": [
    {
     "name": "stdout",
     "output_type": "stream",
     "text": [
      "   index               name                 artist\n",
      "0      1             Mostro  Los Amigos Invisibles\n",
      "1      2          Stay Here                 Marizu\n",
      "2      3  Deeper and Deeper          Jackie Mittoo\n",
      "3      4            Mercado           BaianaSystem\n",
      "4      5            7 Years           Eric Lumiere\n",
      "5      6             Stones       Front Porch Step\n",
      "6      7           Unlonely             Jason Mraz\n",
      "7      8      Setting Forth           Eddie Vedder\n",
      "8      9    I Won't Give Up             Jason Mraz\n",
      "9     10        Stand by Me           Boyce Avenue\n"
     ]
    }
   ],
   "source": [
    "#importing data if spotify APIs work for you\n",
    "#we recommended not running this class for our project because before running this class you need to ensure the spotipy package is downloaded\n",
    "#and you need to obtain an client id and client secret id following the instruction in readme\n",
    "#We recommended using the two song datasets we provided and import them in main for testing purpose of this project\n",
    "from SpotifySong import SpotifyDataProcessor\n",
    "cid = '0b8a840537a24112b19217f9d194980c'\n",
    "secret = '5756cefe5da347d99deea997e266ff98'\n",
    "redirect_uri = \"https://github.com/YujieGong/sds-final-project\"\n",
    "scope = 'user-library-read'\n",
    "spotify_processor = SpotifyDataProcessor(client_id=cid, client_secret=secret, redirect_uri=redirect_uri, scope=scope)\n",
    "df_song_result = spotify_processor.process_spotify_data()\n",
    "print(df_song_result)"
   ]
  },
  {
   "cell_type": "code",
   "execution_count": null,
   "id": "1996cd78-3490-4e7f-8946-21a3e3965055",
   "metadata": {},
   "outputs": [
    {
     "name": "stdout",
     "output_type": "stream",
     "text": [
      "All The World (I Tell Myself)---Correatown\n",
      "Stand Your Ground---Joshua Hyslop\n",
      "Heaven Knows---Five For Fighting\n",
      "What Would I Do Without You---Drew Holcomb & The Neighbors\n",
      "Don't Wanna Know - Acoustic Version---The Mayries\n",
      "Mirrors---Boyce Avenue;Fifth Harmony\n",
      "Always Be My Baby---Rosie Thomas;The Shins;Sufjan Stevens;Josh Ottum\n",
      "End Of The Road---Eddie Vedder\n"
     ]
    }
   ],
   "source": [
    "from SpotifySong import song\n",
    "\n",
    "def main():\n",
    "    #import data and use the class for song recommendations\n",
    "    user_data = pd.read_csv(\"top_10_songs.csv\")\n",
    "    #user_data = pd.read_csv(\"top_10_songs_dataset2.csv\")\n",
    "    name_list = user_data[\"name\"].tolist()\n",
    "    artist_list = user_data[\"artist\"].tolist()\n",
    "    for i in range(10):\n",
    "        new_song = song(name_list[i],artist_list[i])\n",
    "        new_song.music_recommendation()    \n",
    "\n",
    "if __name__ == \"__main__\":\n",
    "    main()"
   ]
  },
  {
   "cell_type": "code",
   "execution_count": null,
   "id": "46691dbc-3bb5-47ce-8013-21b0c8a03d72",
   "metadata": {},
   "outputs": [],
   "source": []
  }
 ],
 "metadata": {
  "kernelspec": {
   "display_name": "myenv",
   "language": "python",
   "name": "myenv"
  },
  "language_info": {
   "codemirror_mode": {
    "name": "ipython",
    "version": 3
   },
   "file_extension": ".py",
   "mimetype": "text/x-python",
   "name": "python",
   "nbconvert_exporter": "python",
   "pygments_lexer": "ipython3",
   "version": "3.8.10"
  }
 },
 "nbformat": 4,
 "nbformat_minor": 5
}
